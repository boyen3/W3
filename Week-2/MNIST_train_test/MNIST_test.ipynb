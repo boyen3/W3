{
 "cells": [
  {
   "cell_type": "code",
   "execution_count": null,
   "id": "ecee74cf",
   "metadata": {},
   "outputs": [],
   "source": [
    "# %load MNIST_test.py\n",
    "#!/usr/bin/env python\n",
    "\n",
    "# In[ ]:\n",
    "\n",
    "\n",
    "import tensorflow.keras as keras\n",
    "import tensorflow as tf\n",
    "from tensorflow.keras.models import load_model\n",
    "import numpy as np\n",
    "import cv2\n",
    "\n",
    "'''\n",
    "def solve_cudnn_error():\n",
    "    gpus = tf.config.experimental.list_physical_devices('GPU')\n",
    "    if gpus:\n",
    "        try:\n",
    "            # Currently, memory growth needs to be the same across GPUs\n",
    "            for gpu in gpus:\n",
    "                tf.config.experimental.set_memory_growth(gpu, True)\n",
    "            logical_gpus = tf.config.experimental.list_logical_devices('GPU')\n",
    "            print(len(gpus), \"Physical GPUs,\", len(logical_gpus), \"Logical GPUs\")\n",
    "        except RuntimeError as e:\n",
    "            # Memory growth must be set before GPUs have been initialized\n",
    "            print(e)\n",
    "'''\n",
    "\n",
    "#讓tensorflow自行動態分配記憶體空間而不是強制佔用所有空間導致Unknown: Failed to get convolution algorithm. This is probably because cuDNN failed to initialize\n",
    "config = tf.compat.v1.ConfigProto() \n",
    "config.gpu_options.allow_growth = True \n",
    "sess = tf.compat.v1.Session(config=config)\n",
    "\n",
    "\n",
    "\n",
    "# Read the .h5 file\n",
    "model = load_model('MNIST_ep10.h5')\n",
    "\n",
    "# Read the image\n",
    "img = (cv2.imread('MNIST_test/1_draw.png', 0) / 225.0)\n",
    "# Resize to 28x28x1\n",
    "img = cv2.resize(img, (28,28))\n",
    "\n",
    "# Reshape to 1x28x28x1 because of the input of network\n",
    "img_reshaped = np.reshape(img, (1,28,28,1))\n",
    "# Perdiction\n",
    "output = model.predict(img_reshaped)\n",
    "print('Ouput prob. result = ', output)\n",
    "# Get the most probably number.\n",
    "print('The probably number is ', np.argmax(output))\n",
    "# Display the image you choose\n",
    "cv2.imshow('img',img)\n",
    "cv2.waitKey(0)\n",
    "cv2.destroyAllWindows()\n",
    "\n"
   ]
  },
  {
   "cell_type": "code",
   "execution_count": null,
   "id": "387bbad6",
   "metadata": {},
   "outputs": [],
   "source": []
  }
 ],
 "metadata": {
  "kernelspec": {
   "display_name": "Python 3 (ipykernel)",
   "language": "python",
   "name": "python3"
  },
  "language_info": {
   "codemirror_mode": {
    "name": "ipython",
    "version": 3
   },
   "file_extension": ".py",
   "mimetype": "text/x-python",
   "name": "python",
   "nbconvert_exporter": "python",
   "pygments_lexer": "ipython3",
   "version": "3.7.11"
  }
 },
 "nbformat": 4,
 "nbformat_minor": 5
}
